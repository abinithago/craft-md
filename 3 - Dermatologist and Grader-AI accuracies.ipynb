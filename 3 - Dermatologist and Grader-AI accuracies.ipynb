{
 "cells": [
  {
   "cell_type": "code",
   "execution_count": 1,
   "id": "0d2d1a59",
   "metadata": {},
   "outputs": [],
   "source": [
    "import pandas as pd\n",
    "import numpy as np\n",
    "import json\n",
    "import math\n",
    "\n",
    "import matplotlib.pyplot as plt\n",
    "import seaborn as sns\n",
    "\n",
    "from scipy.stats import spearmanr"
   ]
  },
  {
   "cell_type": "code",
   "execution_count": 2,
   "id": "65401e5c",
   "metadata": {},
   "outputs": [],
   "source": [
    "vignette = json.load(open(\"./results/results_vignette.json\",\"r\"))\n",
    "convo = json.load(open(\"./results/results_conversation.json\",\"r\"))\n",
    "convo_without_pe = json.load(open(\"./results/results_conversation_withoutPE.json\",\"r\"))"
   ]
  },
  {
   "cell_type": "code",
   "execution_count": 3,
   "id": "e42ac95b",
   "metadata": {},
   "outputs": [],
   "source": [
    "public_cases = [\"public_case0\"+str(x) for x in range(1,10)] + [\"public_case\"+str(x) for x in range(10,101)]\n",
    "private_cases = [\"private_case0\"+str(x) for x in range(1,10)] + [\"private_case\"+str(x) for x in range(10,41)]"
   ]
  },
  {
   "cell_type": "code",
   "execution_count": 4,
   "id": "9cf27246",
   "metadata": {},
   "outputs": [],
   "source": [
    "temp = []\n",
    "for case in public_cases:\n",
    "    temp.append([x[0] for x in vignette[\"gpt-3.5\"][case][\"frq\"][\"autoeval_raw\"]])\n",
    "vignette_gpt3 = pd.DataFrame(temp, index=public_cases).T\n",
    "\n",
    "temp = []\n",
    "for case in public_cases:\n",
    "    temp.append([x[0] for x in vignette[\"gpt-4\"][case][\"frq\"][\"autoeval_raw\"]])\n",
    "vignette_gpt4 = pd.DataFrame(temp, index=public_cases).T"
   ]
  },
  {
   "cell_type": "code",
   "execution_count": 5,
   "id": "d2f80647",
   "metadata": {},
   "outputs": [],
   "source": [
    "temp = []\n",
    "for case in public_cases:\n",
    "    temp.append([x[0] for x in convo[\"gpt-3.5\"][\"multi-turn\"][case][\"frq\"][\"autoeval_raw\"]])\n",
    "convo_gpt3 = pd.DataFrame(temp, index=public_cases).T\n",
    "\n",
    "temp = []\n",
    "for case in public_cases:\n",
    "    temp.append([x[0] for x in convo[\"gpt-4\"][\"multi-turn\"][case][\"frq\"][\"autoeval_raw\"]])\n",
    "convo_gpt4 = pd.DataFrame(temp, index=public_cases).T"
   ]
  },
  {
   "cell_type": "code",
   "execution_count": 6,
   "id": "e204f33e",
   "metadata": {},
   "outputs": [],
   "source": [
    "temp = []\n",
    "for case in public_cases:\n",
    "    temp.append([x[0] for x in convo_without_pe[\"gpt-3.5\"][case][\"frq\"][\"autoeval_raw\"]])\n",
    "convo_without_pe_gpt3 = pd.DataFrame(temp, index=public_cases).T\n",
    "\n",
    "temp = []\n",
    "for case in public_cases:\n",
    "    temp.append([x[0] for x in convo_without_pe[\"gpt-4\"][case][\"frq\"][\"autoeval_raw\"]])\n",
    "convo_without_pe_gpt4 = pd.DataFrame(temp, index=public_cases).T"
   ]
  },
  {
   "cell_type": "code",
   "execution_count": 7,
   "id": "31ceb91d",
   "metadata": {},
   "outputs": [],
   "source": [
    "public_auto = pd.DataFrame([vignette_gpt3.mean(), vignette_gpt4.mean(),\n",
    "                            convo_gpt3.mean(), convo_gpt4.mean(),\n",
    "                            convo_without_pe_gpt3.mean(), convo_without_pe_gpt4.mean()], \n",
    "                             index=[\"vignette_FRQ_GPT3\", \"vignette_FRQ_GPT4\", \n",
    "                                    \"conversation_PE_FRQ_GPT3\", \"conversation_PE_FRQ_GPT4\",\n",
    "                                    \"conversation_FRQ_GPT3\", \"conversation_FRQ_GPT4\"]).T"
   ]
  },
  {
   "cell_type": "code",
   "execution_count": 8,
   "id": "f9e5350b",
   "metadata": {},
   "outputs": [],
   "source": [
    "derm_annots = pd.read_csv(\"./results/expert_annotations/dermatologist_annotations_publicdata_graderai_accuracy_assessment.tsv\",sep=\"\\t\",index_col=0)\n",
    "for col in public_auto.columns:\n",
    "    temp = []\n",
    "    for case in public_cases:\n",
    "        if math.isnan(derm_annots[\"ben_\" + col][case]):\n",
    "            temp.append(derm_annots[col][case])\n",
    "        else:\n",
    "            temp.append(derm_annots[\"ben_\" + col][case])\n",
    "            \n",
    "    derm_annots[col] = temp"
   ]
  },
  {
   "cell_type": "code",
   "execution_count": 9,
   "id": "bddaa23e",
   "metadata": {},
   "outputs": [
    {
     "name": "stdout",
     "output_type": "stream",
     "text": [
      "vignette_FRQ_GPT3 SignificanceResult(statistic=0.9362758819676327, pvalue=2.5438324681228514e-46)\n",
      "vignette_FRQ_GPT4 SignificanceResult(statistic=0.9547371626358471, pvalue=2.087333522393674e-53)\n",
      "conversation_PE_FRQ_GPT3 SignificanceResult(statistic=0.7289224200246791, pvalue=8.154032957778248e-18)\n",
      "conversation_PE_FRQ_GPT4 SignificanceResult(statistic=0.9426964337417999, pvalue=1.6332324533526964e-48)\n",
      "conversation_FRQ_GPT3 SignificanceResult(statistic=0.8894146773863807, pvalue=4.327020868135299e-35)\n",
      "conversation_FRQ_GPT4 SignificanceResult(statistic=0.9249774004668274, pvalue=5.749464516752942e-43)\n"
     ]
    }
   ],
   "source": [
    "for col in public_auto.columns:\n",
    "    x = public_auto[col]\n",
    "    y = derm_annots[col]\n",
    "    print(col, spearmanr(x,y))"
   ]
  },
  {
   "cell_type": "code",
   "execution_count": null,
   "id": "4b7b8989",
   "metadata": {},
   "outputs": [],
   "source": []
  },
  {
   "cell_type": "code",
   "execution_count": null,
   "id": "ae051daa",
   "metadata": {},
   "outputs": [],
   "source": []
  }
 ],
 "metadata": {
  "kernelspec": {
   "display_name": "Python 3 (ipykernel)",
   "language": "python",
   "name": "python3"
  },
  "language_info": {
   "codemirror_mode": {
    "name": "ipython",
    "version": 3
   },
   "file_extension": ".py",
   "mimetype": "text/x-python",
   "name": "python",
   "nbconvert_exporter": "python",
   "pygments_lexer": "ipython3",
   "version": "3.9.17"
  }
 },
 "nbformat": 4,
 "nbformat_minor": 5
}
