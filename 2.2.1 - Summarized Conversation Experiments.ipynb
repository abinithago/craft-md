{
 "cells": [
  {
   "cell_type": "code",
   "execution_count": null,
   "id": "8e88aa70",
   "metadata": {},
   "outputs": [],
   "source": [
    "import openai\n",
    "import pandas as pd\n",
    "from collections import defaultdict\n",
    "import json\n",
    "import os\n",
    "\n",
    "from src.utils import call_gpt3_api, call_gpt4_api\n",
    "from src.mcq_frq import *\n",
    "from src.eval import eval_experiment\n",
    "from tqdm.auto import tqdm"
   ]
  },
  {
   "cell_type": "code",
   "execution_count": null,
   "id": "0a3e4421",
   "metadata": {},
   "outputs": [],
   "source": [
    "# Set up OpenAI API credentials for GPT-3.5\n",
    "openai_key = open(\"../keys/openai_key.txt\", \"r\")\n",
    "openai.api_key = openai_key.readlines()[0].strip()\n",
    "\n",
    "organization_id = open(\"../keys/rajpurkarlab_org_id.txt\", \"r\")\n",
    "openai.organization = organization_id.readlines()[0].strip()"
   ]
  },
  {
   "cell_type": "code",
   "execution_count": null,
   "id": "24979729",
   "metadata": {},
   "outputs": [],
   "source": [
    "# Read dataset\n",
    "dataset = pd.read_csv(\"./data/dataset_final.tsv\", sep=\"\\t\")"
   ]
  },
  {
   "cell_type": "markdown",
   "id": "fcedf1d0",
   "metadata": {},
   "source": [
    "# Experiment"
   ]
  },
  {
   "cell_type": "code",
   "execution_count": null,
   "id": "b258701d",
   "metadata": {},
   "outputs": [],
   "source": [
    "def summarized_withPE_experiment(all_cases, summarized, case_idx, experiment_name, gpt_model_type):\n",
    "    \n",
    "    prompts = {'mcq_4': get_mcq_withPE_prompt, 'mcq_many': get_mcq_withPE_prompt, 'frq': get_frq_withPE_prompt}\n",
    "    \n",
    "    call_gpt_api = {\"gpt-3.5\": call_gpt3_api, \"gpt-4\": call_gpt4_api}\n",
    "    \n",
    "    age = all_cases.loc[case_idx, \"age\"]\n",
    "    sex = all_cases.loc[case_idx, \"sex\"]\n",
    "    pe = all_cases.loc[case_idx, \"physical_exam\"]\n",
    "    \n",
    "    if experiment_name == \"mcq_4\":\n",
    "        choices = get_choices(all_cases, case_idx)\n",
    "        prompt = prompts[experiment_name](summarized, age, sex, pe, choices)\n",
    "    elif experiment_name == \"mcq_many\":\n",
    "        choices = get_all_choices()\n",
    "        prompt = prompts[experiment_name](summarized, age, sex, pe, choices)\n",
    "    else:\n",
    "        prompt = prompts[experiment_name](summarized, age, sex, pe)\n",
    "        \n",
    "    input_msg = [{\"role\":\"system\", \"content\": prompt}]\n",
    "    response = call_gpt_api[gpt_model_type](input_msg, n_responses=1)\n",
    "        \n",
    "    return response"
   ]
  },
  {
   "cell_type": "code",
   "execution_count": null,
   "id": "f376ac68",
   "metadata": {},
   "outputs": [],
   "source": [
    "keys = [\"mcq_4\", \"mcq_many\", \"frq\"]\n",
    "res = json.load(open(\"./results/final_results_conversation.json\",\"r\"))\n",
    "\n",
    "res_with_exam[\"gpt-3.5\"][\"summarized\"] = {}\n",
    "res_with_exam[\"gpt-4\"][\"summarized\"] = {}\n",
    "\n",
    "gpt3_s_convos = pd.read_csv(\"./results/conversational_summarization_gpt3.tsv\", sep=\"\\t\")\n",
    "gpt4_s_convos = pd.read_csv(\"./results/conversational_summarization_gpt4.tsv\", sep=\"\\t\")\n",
    "\n",
    "n_trials = 10\n",
    "\n",
    "for case_idx, case_id in tqdm(dataset.case_id.iteritems()):\n",
    "    for key in keys:\n",
    "        for j in range(n_trials):\n",
    "            summarized_gpt3 = gpt3_s_convos.loc[case_idx, case_id]\n",
    "            summarized_gpt4 = gpt4_s_convos.loc[case_idx, case_id]\n",
    "            \n",
    "            res_with_exam[\"gpt-3.5\"][\"summarized\"][case] = {key:{\"responses\":None} for key in keys}\n",
    "            res_with_exam[\"gpt-4\"][\"summarized\"][case] = {key:{\"responses\":None} for key in keys}\n",
    "\n",
    "            res_with_exam[\"gpt-3.5\"][\"summarized\"][case][key][\"responses\"] = summarized_withPE_experiment(dataset, summarized_gpt3, case_idx, key, \"gpt-3.5\")\n",
    "            res_with_exam[\"gpt-4\"][\"summarized\"][case][key][\"responses\"] = summarized_withPE_experiment(dataset, summarized_gpt4, case_idx, key, \"gpt-4\")"
   ]
  },
  {
   "cell_type": "markdown",
   "id": "5e6f66d7",
   "metadata": {},
   "source": [
    "# Evaluation"
   ]
  },
  {
   "cell_type": "code",
   "execution_count": null,
   "id": "0981162c",
   "metadata": {},
   "outputs": [],
   "source": [
    "evaluated_res = res_with_exam.copy()\n",
    "for case in dataset.case_id:\n",
    "    evaluated_res[\"gpt-3.5\"][\"summarized\"][case] = eval_experiment(res_with_exam[\"gpt-3.5\"][\"summarized\"][case],\n",
    "                                                                   case_id = case,\n",
    "                                                                   exp_keys = [\"mcq_4\", \"mcq_many\", \"frq\"],\n",
    "                                                                   method = \"autoeval\",\n",
    "                                                                   full_dataset = dataset,\n",
    "                                                                   n_trials = 10)\n",
    "    evaluated_res[\"gpt-4\"][\"summarized\"][case] = eval_experiment(res_with_exam[\"gpt-4\"][\"summarized\"][case],\n",
    "                                                                 case_id = case,\n",
    "                                                                 exp_keys = [\"mcq_4\", \"mcq_many\", \"frq\"],\n",
    "                                                                 method = \"autoeval\",\n",
    "                                                                 full_dataset = dataset,\n",
    "                                                                 n_trials = 10)"
   ]
  },
  {
   "cell_type": "code",
   "execution_count": null,
   "id": "69f7bff9",
   "metadata": {},
   "outputs": [],
   "source": [
    "json.dump(evaluated_res, open(\"./results/final_results_conversation.json\",\"w\"))"
   ]
  },
  {
   "cell_type": "code",
   "execution_count": null,
   "id": "db7d8fd6",
   "metadata": {},
   "outputs": [],
   "source": []
  },
  {
   "cell_type": "code",
   "execution_count": null,
   "id": "1dca0e7a",
   "metadata": {},
   "outputs": [],
   "source": []
  }
 ],
 "metadata": {
  "kernelspec": {
   "display_name": "Python 3 (ipykernel)",
   "language": "python",
   "name": "python3"
  },
  "language_info": {
   "codemirror_mode": {
    "name": "ipython",
    "version": 3
   },
   "file_extension": ".py",
   "mimetype": "text/x-python",
   "name": "python",
   "nbconvert_exporter": "python",
   "pygments_lexer": "ipython3",
   "version": "3.9.15"
  }
 },
 "nbformat": 4,
 "nbformat_minor": 5
}
