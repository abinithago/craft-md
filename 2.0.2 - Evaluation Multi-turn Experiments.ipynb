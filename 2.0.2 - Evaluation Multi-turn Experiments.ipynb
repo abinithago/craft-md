{
 "cells": [
  {
   "cell_type": "code",
   "execution_count": null,
   "id": "8e88aa70",
   "metadata": {},
   "outputs": [],
   "source": [
    "import openai\n",
    "import pandas as pd\n",
    "from collections import defaultdict\n",
    "import json\n",
    "import os\n",
    "\n",
    "from src.utils import call_gpt3_api, call_gpt4_api\n",
    "from src.mcq_frq import *\n",
    "from src.eval import eval_experiment\n",
    "from tqdm.auto import tqdm"
   ]
  },
  {
   "cell_type": "code",
   "execution_count": null,
   "id": "0a3e4421",
   "metadata": {},
   "outputs": [],
   "source": [
    "# Set up OpenAI API credentials for GPT-3.5\n",
    "openai_key = open(\"../keys/openai_key.txt\", \"r\")\n",
    "openai.api_key = openai_key.readlines()[0].strip()\n",
    "\n",
    "organization_id = open(\"../keys/rajpurkarlab_org_id.txt\", \"r\")\n",
    "openai.organization = organization_id.readlines()[0].strip()"
   ]
  },
  {
   "cell_type": "code",
   "execution_count": null,
   "id": "24979729",
   "metadata": {},
   "outputs": [],
   "source": [
    "# Read dataset\n",
    "dataset = pd.read_csv(\"./data/dataset_final.tsv\", sep=\"\\t\")"
   ]
  },
  {
   "cell_type": "markdown",
   "id": "7d5c5bf0",
   "metadata": {},
   "source": [
    "# With Physical Exam"
   ]
  },
  {
   "cell_type": "code",
   "execution_count": null,
   "id": "0981162c",
   "metadata": {},
   "outputs": [],
   "source": [
    "res = json.load(open(\"./results/final_results_conversation.json\",\"r\"))\n",
    "for case in dataset.case_id:\n",
    "    evaluated_res[\"gpt-3.5\"][\"multi-turn\"][case] = eval_experiment(res_with_exam[\"gpt-3.5\"][\"multi-turn\"][case], \n",
    "                                                     exp_keys=[\"mcq_4\", \"mcq_many\", \"frq\"],\n",
    "                                                     method = \"autoeval\")\n",
    "    evaluated_res[\"gpt-4\"][\"multi-turn\"][case] = eval_experiment(res_with_exam[\"gpt-4\"][\"multi-turn\"][case],\n",
    "                                                   exp_keys=[\"mcq_4\", \"mcq_many\", \"frq\"],\n",
    "                                                   method = \"autoeval\")"
   ]
  },
  {
   "cell_type": "code",
   "execution_count": null,
   "id": "69f7bff9",
   "metadata": {},
   "outputs": [],
   "source": [
    "json.dump(evaluated_res, open(\"./results/final_results_conversation.json\",\"w\"))"
   ]
  },
  {
   "cell_type": "markdown",
   "id": "76019b87",
   "metadata": {},
   "source": [
    "# Without Physical Exam"
   ]
  },
  {
   "cell_type": "code",
   "execution_count": null,
   "id": "db7d8fd6",
   "metadata": {},
   "outputs": [],
   "source": [
    "res = json.load(open(\"./results/final_results_conversation_withoutPE.json\",\"r\"))\n",
    "for case in dataset.case_id:\n",
    "    evaluated_res[\"gpt-3.5\"][case] = eval_experiment(res_with_exam[\"gpt-3.5\"][case], \n",
    "                                                     exp_keys=[\"mcq_4\", \"mcq_many\", \"frq\"],\n",
    "                                                     method = \"autoeval\")\n",
    "    evaluated_res[\"gpt-4\"][case] = eval_experiment(res_with_exam[\"gpt-4\"][case],\n",
    "                                                   exp_keys=[\"mcq_4\", \"mcq_many\", \"frq\"],\n",
    "                                                   method = \"autoeval\")"
   ]
  },
  {
   "cell_type": "code",
   "execution_count": null,
   "id": "1dca0e7a",
   "metadata": {},
   "outputs": [],
   "source": [
    "json.dump(evaluated_res, open(\"./results/final_results_conversation_withoutPE.json\",\"w\"))"
   ]
  },
  {
   "cell_type": "code",
   "execution_count": null,
   "id": "cf495972",
   "metadata": {},
   "outputs": [],
   "source": []
  }
 ],
 "metadata": {
  "kernelspec": {
   "display_name": "Python 3 (ipykernel)",
   "language": "python",
   "name": "python3"
  },
  "language_info": {
   "codemirror_mode": {
    "name": "ipython",
    "version": 3
   },
   "file_extension": ".py",
   "mimetype": "text/x-python",
   "name": "python",
   "nbconvert_exporter": "python",
   "pygments_lexer": "ipython3",
   "version": "3.9.17"
  }
 },
 "nbformat": 4,
 "nbformat_minor": 5
}
