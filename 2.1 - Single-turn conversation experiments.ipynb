{
 "cells": [
  {
   "cell_type": "code",
   "execution_count": null,
   "id": "8e88aa70",
   "metadata": {},
   "outputs": [],
   "source": [
    "import openai\n",
    "import pandas as pd\n",
    "from collections import defaultdict\n",
    "import json\n",
    "import os\n",
    "\n",
    "from src.utils import call_gpt3_api, call_gpt4_api\n",
    "from src.mcq_frq import *\n",
    "from src.eval import eval_experiment\n",
    "from tqdm.auto import tqdm"
   ]
  },
  {
   "cell_type": "code",
   "execution_count": null,
   "id": "0a3e4421",
   "metadata": {},
   "outputs": [],
   "source": [
    "# Set up OpenAI API credentials for GPT-3.5\n",
    "openai_key = open(\"../keys/openai_key.txt\", \"r\")\n",
    "openai.api_key = openai_key.readlines()[0].strip()\n",
    "\n",
    "organization_id = open(\"../keys/rajpurkarlab_org_id.txt\", \"r\")\n",
    "openai.organization = organization_id.readlines()[0].strip()"
   ]
  },
  {
   "cell_type": "code",
   "execution_count": null,
   "id": "73a39f98",
   "metadata": {},
   "outputs": [],
   "source": [
    "path_gpt3 = \"./results/conversations_raw/conversations_gpt3.json\"\n",
    "path_gpt4 = \"./results/conversations_raw/conversations_gpt4.json\""
   ]
  },
  {
   "cell_type": "code",
   "execution_count": null,
   "id": "24979729",
   "metadata": {},
   "outputs": [],
   "source": [
    "# Read dataset\n",
    "dataset = pd.read_csv(\"./data/dataset_final.tsv\", sep=\"\\t\")"
   ]
  },
  {
   "cell_type": "markdown",
   "id": "fcedf1d0",
   "metadata": {},
   "source": [
    "# Experiment"
   ]
  },
  {
   "cell_type": "code",
   "execution_count": null,
   "id": "b258701d",
   "metadata": {},
   "outputs": [],
   "source": [
    "def singleturn_withPE_experiment(all_cases, singleturn, case_idx, experiment_name, gpt_model_type):    \n",
    "    prompts = {'mcq_4': get_mcq_withPE_prompt, 'mcq_many': get_mcq_withPE_prompt, 'frq': get_frq_withPE_prompt}\n",
    "    \n",
    "    call_gpt_api = {\"gpt-3.5\": call_gpt3_api, \"gpt-4\": call_gpt4_api}\n",
    "    \n",
    "    age = all_cases.loc[case_idx, \"age\"]\n",
    "    sex = all_cases.loc[case_idx, \"sex\"]\n",
    "    pe = all_cases.loc[case_idx, \"physical_exam\"]\n",
    "    \n",
    "    if experiment_name == \"mcq_4\":\n",
    "        choices = get_choices(all_cases, case_idx)\n",
    "        prompt = prompts[experiment_name](singleturn, age, sex, pe, choices)\n",
    "    elif experiment_name == \"mcq_many\":\n",
    "        choices = get_all_choices()\n",
    "        prompt = prompts[experiment_name](singleturn, age, sex, pe, choices)\n",
    "    else:\n",
    "        prompt = prompts[experiment_name](singleturn, age, sex, pe)\n",
    "        \n",
    "    input_msg = [{\"role\":\"system\", \"content\": prompt}] \n",
    "    response = call_gpt_api[gpt_model_type](input_msg, n_responses=1)\n",
    "        \n",
    "    return response"
   ]
  },
  {
   "cell_type": "code",
   "execution_count": null,
   "id": "f376ac68",
   "metadata": {},
   "outputs": [],
   "source": [
    "keys = [\"mcq_4\", \"mcq_many\", \"frq\"]\n",
    "res = json.load(open(\"./results/final_results_conversation.json\",\"r\"))\n",
    "\n",
    "res_with_exam[\"gpt-3.5\"][\"single-turn\"] = {}\n",
    "res_with_exam[\"gpt-4\"][\"single-turn\"] = {}\n",
    "\n",
    "gpt3_convos = json.load(open(path_gpt3, \"r\"))\n",
    "gpt4_convos = json.load(open(path_gpt4, \"r\"))\n",
    "\n",
    "n_trials = 10\n",
    "\n",
    "for case_idx, case_id in tqdm(dataset.case_id.items()):\n",
    "    for key in keys:\n",
    "        for j in range(n_trials):\n",
    "            singleturn_gpt3 = gpt3_convos[case_id][f\"trial_{j}_doctor_responses\"][1][\"content\"]\n",
    "            singleturn_gpt4 = gpt4_convos[case_id][f\"trial_{j}_doctor_responses\"][1][\"content\"]\n",
    "            \n",
    "            res_with_exam[\"gpt-3.5\"][\"single-turn\"][case_id] = {key:{\"responses\":None} for key in keys}\n",
    "            res_with_exam[\"gpt-4\"][\"single-turn\"][case_id] = {key:{\"responses\":None} for key in keys}\n",
    "\n",
    "            res_with_exam[\"gpt-3.5\"][\"single-turn\"][case_id][key][\"responses\"] = singleturn_withPE_experiment(dataset, singleturn_gpt3, case_idx, key, \"gpt-3.5\")\n",
    "            res_with_exam[\"gpt-4\"][\"single-turn\"][case_id][key][\"responses\"] = singleturn_withPE_experiment(dataset, singleturn_gpt4, case_idx, key, \"gpt-4\")"
   ]
  },
  {
   "cell_type": "markdown",
   "id": "5e6f66d7",
   "metadata": {},
   "source": [
    "# Evaluation"
   ]
  },
  {
   "cell_type": "code",
   "execution_count": null,
   "id": "0981162c",
   "metadata": {},
   "outputs": [],
   "source": [
    "evaluated_res = res_with_exam.copy()\n",
    "for case in dataset.case_id:\n",
    "    evaluated_res[\"gpt-3.5\"][\"single-turn\"][case] = eval_experiment(res_with_exam[\"gpt-3.5\"][\"single-turn\"][case], \n",
    "                                                                    case_id = case,\n",
    "                                                                    exp_keys=[\"mcq_4\", \"mcq_many\", \"frq\"],\n",
    "                                                                    method = \"autoeval\",\n",
    "                                                                    full_dataset = dataset,\n",
    "                                                                    n_trials=10)\n",
    "    evaluated_res[\"gpt-4\"][\"single-turn\"][case] = eval_experiment(res_with_exam[\"gpt-4\"][\"single-turn\"][case],\n",
    "                                                                  case_id = case,\n",
    "                                                                  exp_keys=[\"mcq_4\", \"mcq_many\", \"frq\"],\n",
    "                                                                  method = \"autoeval\",\n",
    "                                                                  full_dataset = dataset,\n",
    "                                                                  n_trials=10)"
   ]
  },
  {
   "cell_type": "code",
   "execution_count": null,
   "id": "69f7bff9",
   "metadata": {},
   "outputs": [],
   "source": [
    "json.dump(evaluated_res, open(\"./results/final_results_conversation.json\",\"w\"))"
   ]
  },
  {
   "cell_type": "code",
   "execution_count": null,
   "id": "c4871e58",
   "metadata": {},
   "outputs": [],
   "source": []
  }
 ],
 "metadata": {
  "kernelspec": {
   "display_name": "Python 3 (ipykernel)",
   "language": "python",
   "name": "python3"
  },
  "language_info": {
   "codemirror_mode": {
    "name": "ipython",
    "version": 3
   },
   "file_extension": ".py",
   "mimetype": "text/x-python",
   "name": "python",
   "nbconvert_exporter": "python",
   "pygments_lexer": "ipython3",
   "version": "3.9.15"
  }
 },
 "nbformat": 4,
 "nbformat_minor": 5
}
