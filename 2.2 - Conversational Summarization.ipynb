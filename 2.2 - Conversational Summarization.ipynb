{
 "cells": [
  {
   "cell_type": "code",
   "execution_count": null,
   "id": "bf33965d",
   "metadata": {},
   "outputs": [],
   "source": [
    "import pandas as pd\n",
    "import numpy as np\n",
    "import json\n",
    "\n",
    "from tqdm.auto import tqdm\n",
    "import openai\n",
    "\n",
    "from src.utils import call_gpt3_api"
   ]
  },
  {
   "cell_type": "code",
   "execution_count": null,
   "id": "0fdc4b88",
   "metadata": {},
   "outputs": [],
   "source": [
    "# Set up OpenAI API credentials for GPT-3.5\n",
    "openai_key = open(\"../keys/openai_key.txt\", \"r\")\n",
    "openai.api_key = openai_key.readlines()[0]\n",
    "\n",
    "organization_id = open(\"../keys/rajpurkarlab_org_id.txt\", \"r\")\n",
    "openai.organization = organization_id.readlines()[0]"
   ]
  },
  {
   "cell_type": "code",
   "execution_count": null,
   "id": "b1179f27",
   "metadata": {},
   "outputs": [],
   "source": [
    "def convert_to_vignette_prompt_gpt3(pat_dialogues):\n",
    "    system_prompt = \"Convert the vignette into 3rd person - .\\n\"\n",
    "    system_prompt += pat_dialogues\n",
    "    system_prompt += \"\\n\\nFor example: \\nOriginal Vignette - 'I have noticed that the skin around my hands,\" \n",
    "    system_prompt += \"forearms, and face has been getting thicker over the past several months. \"\n",
    "    system_prompt += \"I am 47 years old. I am a woman. \"\n",
    "    system_prompt += \"I didn't mention any joint pain or stiffness in my described symptoms. \"\n",
    "    system_prompt += \"I have no family history of autoimmune disease. \"\n",
    "    system_prompt += \"I have not mentioned having any red or purple patches on my skin. \"\n",
    "    system_prompt += \"I haven't mentioned any rapid weight gain in my face, arms, or legs. \"\n",
    "    system_prompt += \"Yes, I am experiencing thickening of my skin around my hands, forearms, and face. \"\n",
    "    system_prompt += \"I am not taking any medications.' \"\n",
    "    system_prompt += \"\\n\\nConverted Vignette - 'A 47-year-old woman presents to the clinic with several concerns. \"\n",
    "    system_prompt += \"Over the past several months, she has experienced thickening of her skin around her hands, forearms, and face.  \"\n",
    "    system_prompt += \"She does not have any joint pain, stiffness, or family history of autoimmune diseases. \"\n",
    "    system_prompt += \"She also does not ave any red or purple patches on her skin. \"\n",
    "    system_prompt += \"She denies any rapid weight gain on her face, arms or legs. \"\n",
    "    system_prompt += \"She denies taking any medications.'\"\n",
    "    \n",
    "    return system_prompt"
   ]
  },
  {
   "cell_type": "code",
   "execution_count": null,
   "id": "51aa2a92",
   "metadata": {},
   "outputs": [],
   "source": [
    "def convert_to_vignette_prompt_gpt4(pat_dialogues):\n",
    "    system_prompt = \"Convert the following vignette into 3rd person.\"\n",
    "    system_prompt += \" It is a patient describing their medical symptoms.\"\n",
    "    system_prompt += \" Do not use the words 'AI language model' or references to the 'paragraph' mentioned in the vignette.\"\n",
    "    system_prompt += \" Do not create new information. - .\\n\"\n",
    "    system_prompt += pat_dialogues\n",
    "    system_prompt += \"\\n\\nFor example: \\nOriginal Vignette - 'I have a hard, yellowish-white horn-like growth\"\n",
    "    system_prompt += \" on my head that started as a small, hard bump a few months ago and has grown bigger,\"\n",
    "    system_prompt += \" and hurts when accidentally hit. I am a 60-year-old man.\"\n",
    "    system_prompt += \" I'm sorry, but I do not have that information as I am an AI language model.\" \n",
    "    system_prompt += \" I am an AI language model, and based on the given paragraph, there is no information available regarding\"\n",
    "    system_prompt += \" previous growths or history of skin cancer or other cancers. \"\n",
    "    system_prompt += \" As an AI language model, it is not mentioned in the given paragraph whether\"\n",
    "    system_prompt += \" I have tried any treatments or remedies for the horn-like growth.\"\n",
    "    system_prompt += \" The growth has a very firm texture, and it is located superficially on the skin,\"\n",
    "    system_prompt += \" just beside the midline on the superior aspect of the skull.\"\n",
    "    system_prompt += \" As described in the given paragraph, the patient denies any pain at rest,\"\n",
    "    system_prompt += \" but experiences pain when the lesion is accidentally struck;\"\n",
    "    system_prompt += \" there is no mention of itch or bleeding. As an AI language model, there is no information available\"\n",
    "    system_prompt += \" in the given paragraph regarding any comorbidities or previous skin disease diagnoses.\"\n",
    "    system_prompt += \" As mentioned in the given paragraph, the patient noticed a small,\"\n",
    "    system_prompt += \" hard lesion a few months ago, which has grown progressively larger from that time to now.\"\n",
    "    system_prompt += \" However, there is no mention of any changes in color or shape over time.' \"    \n",
    "    system_prompt += \"\\n\\nConverted Vignette - 'A 60-year-old man reports a hard, yellowish-white horn-like growth\"\n",
    "    system_prompt += \" on his head that started as a small, hard bump a few months ago.\"\n",
    "    system_prompt += \" He says that it has grown bigger and hurts when accidently hit.\"\n",
    "    system_prompt += \" He says that there are no previous growths or history of skin cancer or other cancers.\"\n",
    "    system_prompt += \" He does not know if he has tried any treatments or remedies for the horn-like growth.\"\n",
    "    system_prompt += \" He says that the The growth has a very firm texture, and it is located superficially on the skin, just beside the midline on the superior aspect of the skull.\"\n",
    "    system_prompt += \" He denies any any pain at rest, but experiences pain when the lesion is accidentally struck.\"\n",
    "    system_prompt += \" There is no mention of itch or bleeding. He does not have information regarding any comorbidities or previous skin disease diagnoses.\"\n",
    "    system_prompt += \" There is no mention of any changes in color or shape over time.'\"\n",
    "    \n",
    "    return system_prompt"
   ]
  },
  {
   "cell_type": "code",
   "execution_count": null,
   "id": "df0b1c2c",
   "metadata": {},
   "outputs": [],
   "source": [
    "def convert_to_vignette_gpt3(pat_dialogues):\n",
    "    convo = [{\"role\":\"system\", \"content\":convert_to_vignette_prompt_gpt3(pat_dialogues)}]\n",
    "    response = call_gpt3_api(convo, n_responses=1, max_tokens=500)\n",
    "    return response\n",
    "\n",
    "\n",
    "def convert_to_vignette_gpt4(pat_dialogues):\n",
    "    convo = [{\"role\":\"system\", \"content\":convert_to_vignette_prompt_gpt4(pat_dialogues)}]\n",
    "    response = call_gpt3_api(convo, n_responses=1, max_tokens=500)\n",
    "    return response"
   ]
  },
  {
   "cell_type": "code",
   "execution_count": null,
   "id": "2dcbedf2",
   "metadata": {},
   "outputs": [],
   "source": [
    "def get_patient_responses(convo):\n",
    "    temp = \"\"\n",
    "    for c in convo:\n",
    "        if c[\"role\"]==\"user\":\n",
    "            temp += c[\"content\"]\n",
    "            temp += \" \"\n",
    "    return temp"
   ]
  },
  {
   "cell_type": "code",
   "execution_count": null,
   "id": "0c0353a0",
   "metadata": {},
   "outputs": [],
   "source": [
    "public_cases = [\"public_case0\"+str(x) for x in range(1,10)] + [\"public_case\"+str(x) for x in range(10,101)]\n",
    "private_cases = [\"private_case0\"+str(x) for x in range(1,10)] + [\"private_case\"+str(x) for x in range(10,41)]\n",
    "all_cases = public_cases + private_cases"
   ]
  },
  {
   "cell_type": "code",
   "execution_count": null,
   "id": "10fb2415",
   "metadata": {},
   "outputs": [],
   "source": [
    "# GPT-3.5 conversations\n",
    "res_df = pd.DataFrame(index=range(10), columns=range(len(all_cases)))\n",
    "\n",
    "res = json.load(open(\"./results/conversations_raw/conversations_gpt3.json\",\"r\"))\n",
    "for case in tqdm(all_cases):\n",
    "    for j in range(10):\n",
    "        vig = get_patient_responses(res[case][f\"trial_{j}_doctor_responses_with_exam\"])\n",
    "        converted_vig = convert_to_vignette_gpt3(vig)\n",
    "        res_df.loc[j,i] = converted_vig\n",
    "        \n",
    "res_df.to_csv(\"./results/conversational_summarization_gpt3.tsv\", sep=\"\\t\")"
   ]
  },
  {
   "cell_type": "code",
   "execution_count": null,
   "id": "04dbceb6",
   "metadata": {},
   "outputs": [],
   "source": [
    "# GPT-4 conversations\n",
    "res_df = pd.DataFrame(index=range(10), columns=range(len(all_cases)))\n",
    "\n",
    "res = json.load(open(\"./results/conversations_raw/conversations_gpt4.json\",\"r\"))\n",
    "for case in tqdm(all_cases):\n",
    "    for j in range(10):\n",
    "        vig = get_patient_responses(res[case][f\"trial_{j}_doctor_responses_with_exam\"])\n",
    "        converted_vig = convert_to_vignette_gpt4(vig)\n",
    "        res_df.loc[j,i] = converted_vig\n",
    "        \n",
    "res_df.to_csv(\"./results/conversational_summarization_gpt4.tsv\", sep=\"\\t\")"
   ]
  },
  {
   "cell_type": "code",
   "execution_count": null,
   "id": "36b4dca4",
   "metadata": {},
   "outputs": [],
   "source": []
  },
  {
   "cell_type": "code",
   "execution_count": null,
   "id": "5f5cfa40",
   "metadata": {},
   "outputs": [],
   "source": []
  }
 ],
 "metadata": {
  "kernelspec": {
   "display_name": "Python 3 (ipykernel)",
   "language": "python",
   "name": "python3"
  },
  "language_info": {
   "codemirror_mode": {
    "name": "ipython",
    "version": 3
   },
   "file_extension": ".py",
   "mimetype": "text/x-python",
   "name": "python",
   "nbconvert_exporter": "python",
   "pygments_lexer": "ipython3",
   "version": "3.9.15"
  }
 },
 "nbformat": 4,
 "nbformat_minor": 5
}
